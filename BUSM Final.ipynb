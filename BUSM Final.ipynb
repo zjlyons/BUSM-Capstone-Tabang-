{
 "cells": [
  {
   "cell_type": "code",
   "execution_count": 1,
   "metadata": {},
   "outputs": [
    {
     "data": {
      "text/plain": [
       "RendererRegistry.enable('notebook')"
      ]
     },
     "execution_count": 1,
     "metadata": {},
     "output_type": "execute_result"
    }
   ],
   "source": [
    "import pandas as pd\n",
    "import numpy as np\n",
    "import matplotlib.pyplot as plt\n",
    "import altair as alt\n",
    "alt.renderers.enable('notebook')"
   ]
  },
  {
   "cell_type": "code",
   "execution_count": 2,
   "metadata": {
    "scrolled": false
   },
   "outputs": [
    {
     "data": {
      "text/html": [
       "<div>\n",
       "<style scoped>\n",
       "    .dataframe tbody tr th:only-of-type {\n",
       "        vertical-align: middle;\n",
       "    }\n",
       "\n",
       "    .dataframe tbody tr th {\n",
       "        vertical-align: top;\n",
       "    }\n",
       "\n",
       "    .dataframe thead th {\n",
       "        text-align: right;\n",
       "    }\n",
       "</style>\n",
       "<table border=\"1\" class=\"dataframe\">\n",
       "  <thead>\n",
       "    <tr style=\"text-align: right;\">\n",
       "      <th></th>\n",
       "      <th>Timestamp</th>\n",
       "      <th>Age</th>\n",
       "      <th>Gender</th>\n",
       "      <th>Income</th>\n",
       "      <th>Education</th>\n",
       "      <th>Used Freelance</th>\n",
       "      <th>Ease of aquiring freelance</th>\n",
       "      <th>Trust in freelance</th>\n",
       "      <th>Frequency of custom products</th>\n",
       "      <th>Wanted product that doesn’t exist</th>\n",
       "      <th>Benefit from customization</th>\n",
       "      <th>App interest</th>\n",
       "      <th>Matching preference</th>\n",
       "      <th>Making/buying preference</th>\n",
       "      <th>Factors</th>\n",
       "    </tr>\n",
       "  </thead>\n",
       "  <tbody>\n",
       "    <tr>\n",
       "      <th>0</th>\n",
       "      <td>2019-03-04 19:25:00</td>\n",
       "      <td>18-25</td>\n",
       "      <td>Female</td>\n",
       "      <td>$150k+</td>\n",
       "      <td>Bachelor's Degree</td>\n",
       "      <td>No</td>\n",
       "      <td>N/A, I haven't hired freelance workers before</td>\n",
       "      <td>N/A, I haven't hired freelance workers before</td>\n",
       "      <td>Never</td>\n",
       "      <td>Yes</td>\n",
       "      <td>Home decor, Clothing, Furniture</td>\n",
       "      <td>4</td>\n",
       "      <td>Be matched</td>\n",
       "      <td>Buy it and let someone else make it</td>\n",
       "      <td>Experience, Reputation, Portfolio/sample work,...</td>\n",
       "    </tr>\n",
       "    <tr>\n",
       "      <th>1</th>\n",
       "      <td>2019-03-11 16:21:00</td>\n",
       "      <td>18-25</td>\n",
       "      <td>Female</td>\n",
       "      <td>Prefer not to say</td>\n",
       "      <td>Some college, no degree</td>\n",
       "      <td>No</td>\n",
       "      <td>N/A, I haven't hired freelance workers before</td>\n",
       "      <td>N/A, I haven't hired freelance workers before</td>\n",
       "      <td>Never</td>\n",
       "      <td>Yes</td>\n",
       "      <td>Art, Home decor, Clothing, R√©sum√©s/Templates...</td>\n",
       "      <td>4</td>\n",
       "      <td>No preference</td>\n",
       "      <td>Buy it and let someone else make it</td>\n",
       "      <td>Experience, Turnaround/shipping times, Reputat...</td>\n",
       "    </tr>\n",
       "    <tr>\n",
       "      <th>2</th>\n",
       "      <td>2019-03-11 16:21:00</td>\n",
       "      <td>18-25</td>\n",
       "      <td>Female</td>\n",
       "      <td>&lt; $20,000</td>\n",
       "      <td>Some college, no degree</td>\n",
       "      <td>No</td>\n",
       "      <td>N/A, I haven't hired freelance workers before</td>\n",
       "      <td>N/A, I haven't hired freelance workers before</td>\n",
       "      <td>1-2 times per month</td>\n",
       "      <td>Yes</td>\n",
       "      <td>Art, Clothing, Furniture</td>\n",
       "      <td>4</td>\n",
       "      <td>No preference</td>\n",
       "      <td>Buy it and let someone else make it</td>\n",
       "      <td>Experience, Reputation, Trustworthiness</td>\n",
       "    </tr>\n",
       "    <tr>\n",
       "      <th>3</th>\n",
       "      <td>2019-03-11 16:24:00</td>\n",
       "      <td>18-25</td>\n",
       "      <td>Female</td>\n",
       "      <td>$20,000-34,999</td>\n",
       "      <td>Some college, no degree</td>\n",
       "      <td>No</td>\n",
       "      <td>N/A, I haven't hired freelance workers before</td>\n",
       "      <td>N/A, I haven't hired freelance workers before</td>\n",
       "      <td>1-2 times per month</td>\n",
       "      <td>Yes</td>\n",
       "      <td>Art, Home decor, Clothing, R√©sum√©s/Templates...</td>\n",
       "      <td>4</td>\n",
       "      <td>Be matched</td>\n",
       "      <td>Buy it and let someone else make it</td>\n",
       "      <td>Experience, Turnaround/shipping times, Reputat...</td>\n",
       "    </tr>\n",
       "    <tr>\n",
       "      <th>4</th>\n",
       "      <td>2019-03-11 16:24:00</td>\n",
       "      <td>34-40</td>\n",
       "      <td>Female</td>\n",
       "      <td>$20,000-34,999</td>\n",
       "      <td>Some college, no degree</td>\n",
       "      <td>No</td>\n",
       "      <td>N/A, I haven't hired freelance workers before</td>\n",
       "      <td>Somewhat trustworthy</td>\n",
       "      <td>1-2 times per month</td>\n",
       "      <td>Yes</td>\n",
       "      <td>Home decor, Clothing, Furniture, Jewelry</td>\n",
       "      <td>3</td>\n",
       "      <td>No preference</td>\n",
       "      <td>Buy it and let someone else make it</td>\n",
       "      <td>Experience, Reputation, Trustworthiness, Portf...</td>\n",
       "    </tr>\n",
       "  </tbody>\n",
       "</table>\n",
       "</div>"
      ],
      "text/plain": [
       "            Timestamp    Age  Gender             Income  \\\n",
       "0 2019-03-04 19:25:00  18-25  Female             $150k+   \n",
       "1 2019-03-11 16:21:00  18-25  Female  Prefer not to say   \n",
       "2 2019-03-11 16:21:00  18-25  Female          < $20,000   \n",
       "3 2019-03-11 16:24:00  18-25  Female     $20,000-34,999   \n",
       "4 2019-03-11 16:24:00  34-40  Female     $20,000-34,999   \n",
       "\n",
       "                 Education Used Freelance  \\\n",
       "0        Bachelor's Degree             No   \n",
       "1  Some college, no degree             No   \n",
       "2  Some college, no degree             No   \n",
       "3  Some college, no degree             No   \n",
       "4  Some college, no degree             No   \n",
       "\n",
       "                      Ease of aquiring freelance  \\\n",
       "0  N/A, I haven't hired freelance workers before   \n",
       "1  N/A, I haven't hired freelance workers before   \n",
       "2  N/A, I haven't hired freelance workers before   \n",
       "3  N/A, I haven't hired freelance workers before   \n",
       "4  N/A, I haven't hired freelance workers before   \n",
       "\n",
       "                              Trust in freelance Frequency of custom products  \\\n",
       "0  N/A, I haven't hired freelance workers before                        Never   \n",
       "1  N/A, I haven't hired freelance workers before                        Never   \n",
       "2  N/A, I haven't hired freelance workers before          1-2 times per month   \n",
       "3  N/A, I haven't hired freelance workers before          1-2 times per month   \n",
       "4                           Somewhat trustworthy          1-2 times per month   \n",
       "\n",
       "  Wanted product that doesn’t exist  \\\n",
       "0                               Yes   \n",
       "1                               Yes   \n",
       "2                               Yes   \n",
       "3                               Yes   \n",
       "4                               Yes   \n",
       "\n",
       "                          Benefit from customization  App interest  \\\n",
       "0                    Home decor, Clothing, Furniture             4   \n",
       "1  Art, Home decor, Clothing, R√©sum√©s/Templates...             4   \n",
       "2                           Art, Clothing, Furniture             4   \n",
       "3  Art, Home decor, Clothing, R√©sum√©s/Templates...             4   \n",
       "4           Home decor, Clothing, Furniture, Jewelry             3   \n",
       "\n",
       "  Matching preference             Making/buying preference  \\\n",
       "0          Be matched  Buy it and let someone else make it   \n",
       "1       No preference  Buy it and let someone else make it   \n",
       "2       No preference  Buy it and let someone else make it   \n",
       "3          Be matched  Buy it and let someone else make it   \n",
       "4       No preference  Buy it and let someone else make it   \n",
       "\n",
       "                                             Factors  \n",
       "0  Experience, Reputation, Portfolio/sample work,...  \n",
       "1  Experience, Turnaround/shipping times, Reputat...  \n",
       "2            Experience, Reputation, Trustworthiness  \n",
       "3  Experience, Turnaround/shipping times, Reputat...  \n",
       "4  Experience, Reputation, Trustworthiness, Portf...  "
      ]
     },
     "execution_count": 2,
     "metadata": {},
     "output_type": "execute_result"
    }
   ],
   "source": [
    "df = pd.read_excel('Auxi Survey Data.xlsx')\n",
    "df.head()\n"
   ]
  },
  {
   "cell_type": "code",
   "execution_count": 40,
   "metadata": {},
   "outputs": [
    {
     "data": {
      "text/plain": [
       "18-25    52\n",
       "40-50    14\n",
       "50-60     9\n",
       "60+       4\n",
       "26-33     3\n",
       "34-40     2\n",
       "<18       1\n",
       "Name: Age, dtype: int64"
      ]
     },
     "execution_count": 40,
     "metadata": {},
     "output_type": "execute_result"
    }
   ],
   "source": [
    "df['Age'].value_counts()"
   ]
  },
  {
   "cell_type": "code",
   "execution_count": 41,
   "metadata": {},
   "outputs": [
    {
     "data": {
      "text/plain": [
       "$150k+               28\n",
       "< $20,000            17\n",
       "$100,000-149,000      9\n",
       "Prefer not to say     8\n",
       "$75,000-99,999        7\n",
       "$20,000-34,999        7\n",
       "$50,000-74,999        5\n",
       "$35,000-49,999        4\n",
       "Name: Income, dtype: int64"
      ]
     },
     "execution_count": 41,
     "metadata": {},
     "output_type": "execute_result"
    }
   ],
   "source": [
    "df['Income'].value_counts()"
   ]
  },
  {
   "cell_type": "code",
   "execution_count": 42,
   "metadata": {},
   "outputs": [
    {
     "data": {
      "text/plain": [
       "Some college, no degree                45\n",
       "Bachelor's Degree                      20\n",
       "High School or equivalent (GED)         9\n",
       "Master's Degree                         6\n",
       "Professional Degree (MD, DDS, etc.)     4\n",
       "Associate Degree                        1\n",
       "Name: Education, dtype: int64"
      ]
     },
     "execution_count": 42,
     "metadata": {},
     "output_type": "execute_result"
    }
   ],
   "source": [
    "df['Education'].value_counts()"
   ]
  },
  {
   "cell_type": "code",
   "execution_count": 24,
   "metadata": {},
   "outputs": [],
   "source": [
    "agg_d = {'App interest':'mean'}\n",
    "age_df = df.groupby(['Age']).agg(agg_d)"
   ]
  },
  {
   "cell_type": "code",
   "execution_count": 25,
   "metadata": {},
   "outputs": [
    {
     "data": {
      "text/html": [
       "<div>\n",
       "<style scoped>\n",
       "    .dataframe tbody tr th:only-of-type {\n",
       "        vertical-align: middle;\n",
       "    }\n",
       "\n",
       "    .dataframe tbody tr th {\n",
       "        vertical-align: top;\n",
       "    }\n",
       "\n",
       "    .dataframe thead th {\n",
       "        text-align: right;\n",
       "    }\n",
       "</style>\n",
       "<table border=\"1\" class=\"dataframe\">\n",
       "  <thead>\n",
       "    <tr style=\"text-align: right;\">\n",
       "      <th></th>\n",
       "      <th>Income</th>\n",
       "      <th>App interest</th>\n",
       "    </tr>\n",
       "  </thead>\n",
       "  <tbody>\n",
       "    <tr>\n",
       "      <th>0</th>\n",
       "      <td>$35,000-49,999</td>\n",
       "      <td>4.000000</td>\n",
       "    </tr>\n",
       "    <tr>\n",
       "      <th>1</th>\n",
       "      <td>$20,000-34,999</td>\n",
       "      <td>3.857143</td>\n",
       "    </tr>\n",
       "    <tr>\n",
       "      <th>2</th>\n",
       "      <td>$100,000-149,000</td>\n",
       "      <td>3.555556</td>\n",
       "    </tr>\n",
       "    <tr>\n",
       "      <th>3</th>\n",
       "      <td>$150k+</td>\n",
       "      <td>3.428571</td>\n",
       "    </tr>\n",
       "    <tr>\n",
       "      <th>4</th>\n",
       "      <td>$75,000-99,999</td>\n",
       "      <td>3.428571</td>\n",
       "    </tr>\n",
       "    <tr>\n",
       "      <th>5</th>\n",
       "      <td>$50,000-74,999</td>\n",
       "      <td>3.400000</td>\n",
       "    </tr>\n",
       "    <tr>\n",
       "      <th>6</th>\n",
       "      <td>Prefer not to say</td>\n",
       "      <td>3.125000</td>\n",
       "    </tr>\n",
       "    <tr>\n",
       "      <th>7</th>\n",
       "      <td>&lt; $20,000</td>\n",
       "      <td>3.058824</td>\n",
       "    </tr>\n",
       "  </tbody>\n",
       "</table>\n",
       "</div>"
      ],
      "text/plain": [
       "              Income  App interest\n",
       "0     $35,000-49,999      4.000000\n",
       "1     $20,000-34,999      3.857143\n",
       "2   $100,000-149,000      3.555556\n",
       "3             $150k+      3.428571\n",
       "4     $75,000-99,999      3.428571\n",
       "5     $50,000-74,999      3.400000\n",
       "6  Prefer not to say      3.125000\n",
       "7          < $20,000      3.058824"
      ]
     },
     "execution_count": 25,
     "metadata": {},
     "output_type": "execute_result"
    }
   ],
   "source": [
    "income_df = df.groupby('Income').agg(agg_d).sort_values('App interest', ascending = False)\n",
    "income_df = income_df.reset_index()\n",
    "income_df"
   ]
  },
  {
   "cell_type": "code",
   "execution_count": 26,
   "metadata": {},
   "outputs": [
    {
     "data": {
      "application/javascript": [
       "var spec = {\"config\": {\"view\": {\"width\": 400, \"height\": 300}}, \"data\": {\"name\": \"data-9fa6f22fb0cf761649168710f24d5aca\"}, \"mark\": \"bar\", \"encoding\": {\"color\": {\"type\": \"nominal\", \"field\": \"Income\"}, \"x\": {\"type\": \"quantitative\", \"field\": \"App interest\"}, \"y\": {\"type\": \"nominal\", \"field\": \"Income\"}}, \"$schema\": \"https://vega.github.io/schema/vega-lite/v2.6.0.json\", \"datasets\": {\"data-9fa6f22fb0cf761649168710f24d5aca\": [{\"Income\": \"$35,000-49,999\", \"App interest\": 4.0}, {\"Income\": \"$20,000-34,999\", \"App interest\": 3.857142857142857}, {\"Income\": \"$100,000-149,000\", \"App interest\": 3.5555555555555554}, {\"Income\": \"$150k+\", \"App interest\": 3.4285714285714284}, {\"Income\": \"$75,000-99,999\", \"App interest\": 3.4285714285714284}, {\"Income\": \"$50,000-74,999\", \"App interest\": 3.4}, {\"Income\": \"Prefer not to say\", \"App interest\": 3.125}, {\"Income\": \"< $20,000\", \"App interest\": 3.0588235294117645}]}};\n",
       "var opt = {};\n",
       "var type = \"vega-lite\";\n",
       "var id = \"3063e36c-fb43-4cf1-ad0d-12e66ed891ef\";\n",
       "\n",
       "var output_area = this;\n",
       "\n",
       "require([\"nbextensions/jupyter-vega/index\"], function(vega) {\n",
       "  var target = document.createElement(\"div\");\n",
       "  target.id = id;\n",
       "  target.className = \"vega-embed\";\n",
       "\n",
       "  var style = document.createElement(\"style\");\n",
       "  style.textContent = [\n",
       "    \".vega-embed .error p {\",\n",
       "    \"  color: firebrick;\",\n",
       "    \"  font-size: 14px;\",\n",
       "    \"}\",\n",
       "  ].join(\"\\\\n\");\n",
       "\n",
       "  // element is a jQuery wrapped DOM element inside the output area\n",
       "  // see http://ipython.readthedocs.io/en/stable/api/generated/\\\n",
       "  // IPython.display.html#IPython.display.Javascript.__init__\n",
       "  element[0].appendChild(target);\n",
       "  element[0].appendChild(style);\n",
       "\n",
       "  vega.render(\"#\" + id, spec, type, opt, output_area);\n",
       "}, function (err) {\n",
       "  if (err.requireType !== \"scripterror\") {\n",
       "    throw(err);\n",
       "  }\n",
       "});\n"
      ],
      "text/plain": [
       "<vega.vegalite.VegaLite at 0x119d7fef0>"
      ]
     },
     "metadata": {
      "jupyter-vega": "#3063e36c-fb43-4cf1-ad0d-12e66ed891ef"
     },
     "output_type": "display_data"
    },
    {
     "data": {
      "text/plain": []
     },
     "execution_count": 26,
     "metadata": {},
     "output_type": "execute_result"
    },
    {
     "data": {
      "image/png": "[encoded data removed]"
     },
     "metadata": {
      "jupyter-vega": "#3063e36c-fb43-4cf1-ad0d-12e66ed891ef"
     },
     "output_type": "display_data"
    }
   ],
   "source": [
    "alt.Chart(income_df).mark_bar().encode(\n",
    "    x='App interest',\n",
    "    y='Income',\n",
    "    color = 'Income'\n",
    ")"
   ]
  },
  {
   "cell_type": "code",
   "execution_count": 27,
   "metadata": {},
   "outputs": [
    {
     "data": {
      "text/html": [
       "<div>\n",
       "<style scoped>\n",
       "    .dataframe tbody tr th:only-of-type {\n",
       "        vertical-align: middle;\n",
       "    }\n",
       "\n",
       "    .dataframe tbody tr th {\n",
       "        vertical-align: top;\n",
       "    }\n",
       "\n",
       "    .dataframe thead th {\n",
       "        text-align: right;\n",
       "    }\n",
       "</style>\n",
       "<table border=\"1\" class=\"dataframe\">\n",
       "  <thead>\n",
       "    <tr style=\"text-align: right;\">\n",
       "      <th></th>\n",
       "      <th>Education</th>\n",
       "      <th>App interest</th>\n",
       "    </tr>\n",
       "  </thead>\n",
       "  <tbody>\n",
       "    <tr>\n",
       "      <th>0</th>\n",
       "      <td>Associate Degree</td>\n",
       "      <td>5.000000</td>\n",
       "    </tr>\n",
       "    <tr>\n",
       "      <th>1</th>\n",
       "      <td>Bachelor's Degree</td>\n",
       "      <td>3.550000</td>\n",
       "    </tr>\n",
       "    <tr>\n",
       "      <th>2</th>\n",
       "      <td>High School or equivalent (GED)</td>\n",
       "      <td>3.333333</td>\n",
       "    </tr>\n",
       "    <tr>\n",
       "      <th>3</th>\n",
       "      <td>Master's Degree</td>\n",
       "      <td>3.333333</td>\n",
       "    </tr>\n",
       "    <tr>\n",
       "      <th>4</th>\n",
       "      <td>Professional Degree (MD, DDS, etc.)</td>\n",
       "      <td>2.750000</td>\n",
       "    </tr>\n",
       "    <tr>\n",
       "      <th>5</th>\n",
       "      <td>Some college, no degree</td>\n",
       "      <td>3.377778</td>\n",
       "    </tr>\n",
       "  </tbody>\n",
       "</table>\n",
       "</div>"
      ],
      "text/plain": [
       "                             Education  App interest\n",
       "0                     Associate Degree      5.000000\n",
       "1                    Bachelor's Degree      3.550000\n",
       "2      High School or equivalent (GED)      3.333333\n",
       "3                      Master's Degree      3.333333\n",
       "4  Professional Degree (MD, DDS, etc.)      2.750000\n",
       "5              Some college, no degree      3.377778"
      ]
     },
     "execution_count": 27,
     "metadata": {},
     "output_type": "execute_result"
    }
   ],
   "source": [
    "education_df = df.groupby('Education').agg(agg_d)\n",
    "education_df = education_df.reset_index()\n",
    "education_df"
   ]
  },
  {
   "cell_type": "code",
   "execution_count": 28,
   "metadata": {},
   "outputs": [
    {
     "data": {
      "application/javascript": [
       "var spec = {\"config\": {\"view\": {\"width\": 400, \"height\": 300}}, \"data\": {\"name\": \"data-94c84fba1cb518d521be0519ff0166df\"}, \"mark\": \"bar\", \"encoding\": {\"color\": {\"type\": \"nominal\", \"field\": \"Education\"}, \"x\": {\"type\": \"quantitative\", \"field\": \"App interest\"}, \"y\": {\"type\": \"nominal\", \"field\": \"Education\"}}, \"$schema\": \"https://vega.github.io/schema/vega-lite/v2.6.0.json\", \"datasets\": {\"data-94c84fba1cb518d521be0519ff0166df\": [{\"Education\": \"Associate Degree\", \"App interest\": 5.0}, {\"Education\": \"Bachelor's Degree\", \"App interest\": 3.55}, {\"Education\": \"High School or equivalent (GED)\", \"App interest\": 3.3333333333333335}, {\"Education\": \"Master's Degree\", \"App interest\": 3.3333333333333335}, {\"Education\": \"Professional Degree (MD, DDS, etc.)\", \"App interest\": 2.75}, {\"Education\": \"Some college, no degree\", \"App interest\": 3.3777777777777778}]}};\n",
       "var opt = {};\n",
       "var type = \"vega-lite\";\n",
       "var id = \"804ce64f-aaff-46a6-945d-db0dccbe3f86\";\n",
       "\n",
       "var output_area = this;\n",
       "\n",
       "require([\"nbextensions/jupyter-vega/index\"], function(vega) {\n",
       "  var target = document.createElement(\"div\");\n",
       "  target.id = id;\n",
       "  target.className = \"vega-embed\";\n",
       "\n",
       "  var style = document.createElement(\"style\");\n",
       "  style.textContent = [\n",
       "    \".vega-embed .error p {\",\n",
       "    \"  color: firebrick;\",\n",
       "    \"  font-size: 14px;\",\n",
       "    \"}\",\n",
       "  ].join(\"\\\\n\");\n",
       "\n",
       "  // element is a jQuery wrapped DOM element inside the output area\n",
       "  // see http://ipython.readthedocs.io/en/stable/api/generated/\\\n",
       "  // IPython.display.html#IPython.display.Javascript.__init__\n",
       "  element[0].appendChild(target);\n",
       "  element[0].appendChild(style);\n",
       "\n",
       "  vega.render(\"#\" + id, spec, type, opt, output_area);\n",
       "}, function (err) {\n",
       "  if (err.requireType !== \"scripterror\") {\n",
       "    throw(err);\n",
       "  }\n",
       "});\n"
      ],
      "text/plain": [
       "<vega.vegalite.VegaLite at 0x119d8a390>"
      ]
     },
     "metadata": {
      "jupyter-vega": "#804ce64f-aaff-46a6-945d-db0dccbe3f86"
     },
     "output_type": "display_data"
    },
    {
     "data": {
      "text/plain": []
     },
     "execution_count": 28,
     "metadata": {},
     "output_type": "execute_result"
    },
    {
     "data": {
      "image/png": "[encoded data removed]"
     },
     "metadata": {
      "jupyter-vega": "#804ce64f-aaff-46a6-945d-db0dccbe3f86"
     },
     "output_type": "display_data"
    }
   ],
   "source": [
    "alt.Chart(education_df).mark_bar().encode(\n",
    "    y='Education',\n",
    "    x='App interest',\n",
    "    color = 'Education'\n",
    ")"
   ]
  },
  {
   "cell_type": "code",
   "execution_count": 29,
   "metadata": {},
   "outputs": [
    {
     "data": {
      "text/html": [
       "<div>\n",
       "<style scoped>\n",
       "    .dataframe tbody tr th:only-of-type {\n",
       "        vertical-align: middle;\n",
       "    }\n",
       "\n",
       "    .dataframe tbody tr th {\n",
       "        vertical-align: top;\n",
       "    }\n",
       "\n",
       "    .dataframe thead th {\n",
       "        text-align: right;\n",
       "    }\n",
       "</style>\n",
       "<table border=\"1\" class=\"dataframe\">\n",
       "  <thead>\n",
       "    <tr style=\"text-align: right;\">\n",
       "      <th></th>\n",
       "      <th>Used Freelance</th>\n",
       "      <th>App interest</th>\n",
       "    </tr>\n",
       "  </thead>\n",
       "  <tbody>\n",
       "    <tr>\n",
       "      <th>0</th>\n",
       "      <td>I don't know what that is</td>\n",
       "      <td>4.000000</td>\n",
       "    </tr>\n",
       "    <tr>\n",
       "      <th>1</th>\n",
       "      <td>No</td>\n",
       "      <td>3.461538</td>\n",
       "    </tr>\n",
       "    <tr>\n",
       "      <th>2</th>\n",
       "      <td>Yes</td>\n",
       "      <td>3.281250</td>\n",
       "    </tr>\n",
       "  </tbody>\n",
       "</table>\n",
       "</div>"
      ],
      "text/plain": [
       "              Used Freelance  App interest\n",
       "0  I don't know what that is      4.000000\n",
       "1                         No      3.461538\n",
       "2                        Yes      3.281250"
      ]
     },
     "execution_count": 29,
     "metadata": {},
     "output_type": "execute_result"
    }
   ],
   "source": [
    "used_freelance_df = df.groupby('Used Freelance').agg(agg_d)\n",
    "used_freelance_df = used_freelance_df.reset_index()\n",
    "used_freelance_df"
   ]
  },
  {
   "cell_type": "code",
   "execution_count": 49,
   "metadata": {},
   "outputs": [
    {
     "data": {
      "text/plain": [
       "No                           52\n",
       "Yes                          32\n",
       "I don't know what that is     1\n",
       "Name: Used Freelance, dtype: int64"
      ]
     },
     "execution_count": 49,
     "metadata": {},
     "output_type": "execute_result"
    }
   ],
   "source": [
    "df['Used Freelance'].value_counts()"
   ]
  },
  {
   "cell_type": "code",
   "execution_count": 30,
   "metadata": {},
   "outputs": [
    {
     "data": {
      "application/javascript": [
       "var spec = {\"config\": {\"view\": {\"width\": 400, \"height\": 300}}, \"data\": {\"name\": \"data-2898d4b0e6925d4fb7b24d29b9993d58\"}, \"mark\": \"bar\", \"encoding\": {\"color\": {\"type\": \"nominal\", \"field\": \"Used Freelance\"}, \"x\": {\"type\": \"quantitative\", \"field\": \"App interest\"}, \"y\": {\"type\": \"nominal\", \"field\": \"Used Freelance\"}}, \"$schema\": \"https://vega.github.io/schema/vega-lite/v2.6.0.json\", \"datasets\": {\"data-2898d4b0e6925d4fb7b24d29b9993d58\": [{\"Used Freelance\": \"I don't know what that is\", \"App interest\": 4.0}, {\"Used Freelance\": \"No\", \"App interest\": 3.4615384615384617}, {\"Used Freelance\": \"Yes\", \"App interest\": 3.28125}]}};\n",
       "var opt = {};\n",
       "var type = \"vega-lite\";\n",
       "var id = \"1feb45a0-2cbb-4bf4-8782-562e74de985c\";\n",
       "\n",
       "var output_area = this;\n",
       "\n",
       "require([\"nbextensions/jupyter-vega/index\"], function(vega) {\n",
       "  var target = document.createElement(\"div\");\n",
       "  target.id = id;\n",
       "  target.className = \"vega-embed\";\n",
       "\n",
       "  var style = document.createElement(\"style\");\n",
       "  style.textContent = [\n",
       "    \".vega-embed .error p {\",\n",
       "    \"  color: firebrick;\",\n",
       "    \"  font-size: 14px;\",\n",
       "    \"}\",\n",
       "  ].join(\"\\\\n\");\n",
       "\n",
       "  // element is a jQuery wrapped DOM element inside the output area\n",
       "  // see http://ipython.readthedocs.io/en/stable/api/generated/\\\n",
       "  // IPython.display.html#IPython.display.Javascript.__init__\n",
       "  element[0].appendChild(target);\n",
       "  element[0].appendChild(style);\n",
       "\n",
       "  vega.render(\"#\" + id, spec, type, opt, output_area);\n",
       "}, function (err) {\n",
       "  if (err.requireType !== \"scripterror\") {\n",
       "    throw(err);\n",
       "  }\n",
       "});\n"
      ],
      "text/plain": [
       "<vega.vegalite.VegaLite at 0x119d8a780>"
      ]
     },
     "metadata": {
      "jupyter-vega": "#1feb45a0-2cbb-4bf4-8782-562e74de985c"
     },
     "output_type": "display_data"
    },
    {
     "data": {
      "text/plain": []
     },
     "execution_count": 30,
     "metadata": {},
     "output_type": "execute_result"
    },
    {
     "data": {
      "image/png": "[encoded data removed]"
     },
     "metadata": {
      "jupyter-vega": "#1feb45a0-2cbb-4bf4-8782-562e74de985c"
     },
     "output_type": "display_data"
    }
   ],
   "source": [
    "alt.Chart(used_freelance_df).mark_bar().encode(\n",
    "    y='Used Freelance',\n",
    "    x='App interest',\n",
    "    color = 'Used Freelance'\n",
    ")"
   ]
  },
  {
   "cell_type": "code",
   "execution_count": 45,
   "metadata": {},
   "outputs": [
    {
     "data": {
      "text/html": [
       "<div>\n",
       "<style scoped>\n",
       "    .dataframe tbody tr th:only-of-type {\n",
       "        vertical-align: middle;\n",
       "    }\n",
       "\n",
       "    .dataframe tbody tr th {\n",
       "        vertical-align: top;\n",
       "    }\n",
       "\n",
       "    .dataframe thead th {\n",
       "        text-align: right;\n",
       "    }\n",
       "</style>\n",
       "<table border=\"1\" class=\"dataframe\">\n",
       "  <thead>\n",
       "    <tr style=\"text-align: right;\">\n",
       "      <th></th>\n",
       "      <th>Gender</th>\n",
       "      <th>App interest</th>\n",
       "    </tr>\n",
       "  </thead>\n",
       "  <tbody>\n",
       "    <tr>\n",
       "      <th>0</th>\n",
       "      <td>Female</td>\n",
       "      <td>3.500000</td>\n",
       "    </tr>\n",
       "    <tr>\n",
       "      <th>1</th>\n",
       "      <td>Male</td>\n",
       "      <td>3.282051</td>\n",
       "    </tr>\n",
       "  </tbody>\n",
       "</table>\n",
       "</div>"
      ],
      "text/plain": [
       "   Gender  App interest\n",
       "0  Female      3.500000\n",
       "1    Male      3.282051"
      ]
     },
     "execution_count": 45,
     "metadata": {},
     "output_type": "execute_result"
    }
   ],
   "source": [
    "gender_df = df.groupby('Gender').agg(agg_d)\n",
    "gender_df = gender_df.reset_index()\n",
    "gender_df"
   ]
  },
  {
   "cell_type": "code",
   "execution_count": 47,
   "metadata": {},
   "outputs": [
    {
     "data": {
      "application/javascript": [
       "var spec = {\"config\": {\"view\": {\"width\": 400, \"height\": 300}}, \"data\": {\"name\": \"data-5a63757b3ae354a81bdff2d82fbf2976\"}, \"mark\": \"bar\", \"encoding\": {\"color\": {\"type\": \"nominal\", \"field\": \"Gender\"}, \"x\": {\"type\": \"quantitative\", \"field\": \"App interest\"}, \"y\": {\"type\": \"nominal\", \"field\": \"Gender\"}}, \"$schema\": \"https://vega.github.io/schema/vega-lite/v2.6.0.json\", \"datasets\": {\"data-5a63757b3ae354a81bdff2d82fbf2976\": [{\"Gender\": \"Female\", \"App interest\": 3.5}, {\"Gender\": \"Male\", \"App interest\": 3.282051282051282}]}};\n",
       "var opt = {};\n",
       "var type = \"vega-lite\";\n",
       "var id = \"706a3fdc-9d4d-4f44-ac06-a2c5aabd574b\";\n",
       "\n",
       "var output_area = this;\n",
       "\n",
       "require([\"nbextensions/jupyter-vega/index\"], function(vega) {\n",
       "  var target = document.createElement(\"div\");\n",
       "  target.id = id;\n",
       "  target.className = \"vega-embed\";\n",
       "\n",
       "  var style = document.createElement(\"style\");\n",
       "  style.textContent = [\n",
       "    \".vega-embed .error p {\",\n",
       "    \"  color: firebrick;\",\n",
       "    \"  font-size: 14px;\",\n",
       "    \"}\",\n",
       "  ].join(\"\\\\n\");\n",
       "\n",
       "  // element is a jQuery wrapped DOM element inside the output area\n",
       "  // see http://ipython.readthedocs.io/en/stable/api/generated/\\\n",
       "  // IPython.display.html#IPython.display.Javascript.__init__\n",
       "  element[0].appendChild(target);\n",
       "  element[0].appendChild(style);\n",
       "\n",
       "  vega.render(\"#\" + id, spec, type, opt, output_area);\n",
       "}, function (err) {\n",
       "  if (err.requireType !== \"scripterror\") {\n",
       "    throw(err);\n",
       "  }\n",
       "});\n"
      ],
      "text/plain": [
       "<vega.vegalite.VegaLite at 0x11a345860>"
      ]
     },
     "metadata": {
      "jupyter-vega": "#706a3fdc-9d4d-4f44-ac06-a2c5aabd574b"
     },
     "output_type": "display_data"
    },
    {
     "data": {
      "text/plain": []
     },
     "execution_count": 47,
     "metadata": {},
     "output_type": "execute_result"
    },
    {
     "data": {
      "image/png": "[encoded data removed]"
     },
     "metadata": {
      "jupyter-vega": "#706a3fdc-9d4d-4f44-ac06-a2c5aabd574b"
     },
     "output_type": "display_data"
    }
   ],
   "source": [
    "alt.Chart(gender_df).mark_bar().encode(\n",
    "    y='Gender',\n",
    "    x='App interest',\n",
    "    color = 'Gender'\n",
    ")"
   ]
  },
  {
   "cell_type": "code",
   "execution_count": 32,
   "metadata": {},
   "outputs": [
    {
     "data": {
      "text/plain": [
       "Be matched          36\n",
       "Find them myself    34\n",
       "No preference       15\n",
       "Name: Matching preference, dtype: int64"
      ]
     },
     "execution_count": 32,
     "metadata": {},
     "output_type": "execute_result"
    }
   ],
   "source": [
    "df['Matching preference'].value_counts()"
   ]
  },
  {
   "cell_type": "code",
   "execution_count": 33,
   "metadata": {},
   "outputs": [
    {
     "data": {
      "text/plain": [
       "Buy it and let someone else make it    47\n",
       "Learn to make it myself                28\n",
       "No preference                          10\n",
       "Name: Making/buying preference, dtype: int64"
      ]
     },
     "execution_count": 33,
     "metadata": {},
     "output_type": "execute_result"
    }
   ],
   "source": [
    "df['Making/buying preference'].value_counts()"
   ]
  },
  {
   "cell_type": "code",
   "execution_count": 38,
   "metadata": {},
   "outputs": [
    {
     "data": {
      "text/plain": [
       "Never                        41\n",
       "1-2 times per month          38\n",
       "3-4 times per month           3\n",
       "7 or more times per month     2\n",
       "5-6 times per month           1\n",
       "Name: Frequency of custom products, dtype: int64"
      ]
     },
     "execution_count": 38,
     "metadata": {},
     "output_type": "execute_result"
    }
   ],
   "source": [
    "df['Frequency of custom products'].value_counts()"
   ]
  },
  {
   "cell_type": "code",
   "execution_count": null,
   "metadata": {},
   "outputs": [],
   "source": []
  }
 ],
 "metadata": {
  "kernelspec": {
   "display_name": "Python 3",
   "language": "python",
   "name": "python3"
  },
  "language_info": {
   "codemirror_mode": {
    "name": "ipython",
    "version": 3
   },
   "file_extension": ".py",
   "mimetype": "text/x-python",
   "name": "python",
   "nbconvert_exporter": "python",
   "pygments_lexer": "ipython3",
   "version": "3.6.7"
  }
 },
 "nbformat": 4,
 "nbformat_minor": 2
}
